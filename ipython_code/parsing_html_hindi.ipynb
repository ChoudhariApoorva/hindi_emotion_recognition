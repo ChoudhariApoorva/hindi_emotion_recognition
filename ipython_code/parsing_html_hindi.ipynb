{
 "metadata": {
  "name": "parsing_html_hindi"
 }, 
 "nbformat": 2, 
 "worksheets": [
  {
   "cells": [
    {
     "cell_type": "code", 
     "collapsed": false, 
     "input": [
      "from bs4 import BeautifulSoup", 
      "import codecs", 
      "import re", 
      "import glob", 
      "word_synonym={}", 
      "path = '/home/sunil/nlp_project/raw/*.txt'", 
      "files = glob.glob(path)", 
      "for name in files:", 
      "    soup=BeautifulSoup(codecs.open(name,encoding=\"utf-8\"))", 
      "    l=len(name)", 
      "    x=l-1", 
      "    while(x>=0):", 
      "\tif name[x]=='/'or name[x]=='\\\\':", 
      "            break", 
      "\telse:", 
      "            x=x-1", 
      "    word=name[x+1:l-10]", 
      "    #print(name,word)", 
      "    res=soup.find_all('a',attrs={'class':'in l'})", 
      "    ans=[]", 
      "    for each in res:", 
      "\tans.append(BeautifulSoup(str(each)).getText())", 
      "    word_synonym[word]=ans", 
      "    #for i in ans:", 
      "    #\tprint(i)", 
      "a = word_synonym['golfer']"
     ], 
     "language": "python", 
     "outputs": [], 
     "prompt_number": 4
    }, 
    {
     "cell_type": "code", 
     "collapsed": false, 
     "input": [
      "for i in a:", 
      "    print i"
     ], 
     "language": "python", 
     "outputs": [
      {
       "output_type": "stream", 
       "stream": "stdout", 
       "text": [
        "\u0917\u0949\u0932\u094d\u092b \u0916\u0947\u0932\u0928\u0947 \u0935\u093e\u0932\u093e", 
        "\u0917\u094b\u0932\u094d\u092b\u093c \u0915\u093e \u0916\u093f\u0932\u093e\u0921\u093c\u0940", 
        "\u0917\u093e\u0901\u0932\u094d\u092b\u093c \u0916\u0947\u0932\u0928\u0947\u0935\u093e\u0932\u093e"
       ]
      }
     ], 
     "prompt_number": 5
    }, 
    {
     "cell_type": "code", 
     "collapsed": true, 
     "input": [], 
     "language": "python", 
     "outputs": []
    }
   ]
  }
 ]
}